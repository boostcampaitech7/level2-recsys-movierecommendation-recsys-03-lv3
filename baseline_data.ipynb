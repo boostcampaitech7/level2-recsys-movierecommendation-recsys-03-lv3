{
 "cells": [
  {
   "cell_type": "markdown",
   "metadata": {},
   "source": [
    "## Library Import"
   ]
  },
  {
   "cell_type": "code",
   "execution_count": null,
   "metadata": {},
   "outputs": [],
   "source": [
    "import os\n",
    "import re\n",
    "import pandas as pd\n",
    "import numpy as np\n",
    "import matplotlib.pyplot as plt\n",
    "import seaborn as sns"
   ]
  },
  {
   "cell_type": "markdown",
   "metadata": {},
   "source": [
    "## Data Load"
   ]
  },
  {
   "cell_type": "code",
   "execution_count": null,
   "metadata": {},
   "outputs": [],
   "source": [
    "# 데이터 경로 설정\n",
    "data_path = \"~/movie/data/train\"\n",
    "\n",
    "# 전체 학습 데이터 불러오기\n",
    "train_ratings = pd.read_csv(os.path.join(data_path, \"train_ratings.csv\"))\n",
    "\n",
    "# 아이템 side information 불러오기\n",
    "years = pd.read_csv(os.path.join(data_path, \"years.tsv\"), sep=\"\\t\")\n",
    "writers = pd.read_csv(os.path.join(data_path, \"writers.tsv\"), sep=\"\\t\")\n",
    "titles = pd.read_csv(os.path.join(data_path, \"titles.tsv\"), sep=\"\\t\")\n",
    "genres = pd.read_csv(os.path.join(data_path, \"genres.tsv\"), sep=\"\\t\")\n",
    "directors = pd.read_csv(os.path.join(data_path, \"directors.tsv\"), sep=\"\\t\")"
   ]
  },
  {
   "cell_type": "code",
   "execution_count": null,
   "metadata": {},
   "outputs": [],
   "source": [
    "# side information을 하나의 아이템 데이터프레임으로 병합\n",
    "item_df = pd.merge(titles, years, on=\"item\", how=\"left\")\n",
    "item_df = pd.merge(item_df, directors, on=\"item\", how=\"left\")\n",
    "item_df = pd.merge(item_df, writers, on=\"item\", how=\"left\")\n",
    "item_df = pd.merge(item_df, genres, on=\"item\", how=\"left\")"
   ]
  },
  {
   "cell_type": "code",
   "execution_count": null,
   "metadata": {},
   "outputs": [],
   "source": [
    "item_df"
   ]
  },
  {
   "cell_type": "markdown",
   "metadata": {},
   "source": [
    "## Data Preprocessing"
   ]
  },
  {
   "cell_type": "markdown",
   "metadata": {},
   "source": [
    "### 1. `year`\n",
    "\n",
    "결측치를 `title`에 포함된 연도 정보를 활용해 대체한다."
   ]
  },
  {
   "cell_type": "code",
   "execution_count": null,
   "metadata": {},
   "outputs": [],
   "source": [
    "# year 결측치 확인\n",
    "item_df[item_df[\"year\"].isna()]"
   ]
  },
  {
   "cell_type": "code",
   "execution_count": null,
   "metadata": {},
   "outputs": [],
   "source": [
    "# title에서 괄호 안 연도 추출해 year 결측치 대체\n",
    "item_df[\"year\"] = item_df[\"year\"].fillna(\n",
    "    item_df[\"title\"].str.extract(r\"\\((\\d{4})\\)\", expand=False)  # 괄호 안 네 자리 숫자를 추출하는 정규표현식\n",
    ").astype(\"int64\")\n",
    "\n",
    "# 결과 확인\n",
    "print(item_df[item_df[\"year\"].isna()])  # 여전히 NaN인 경우 확인"
   ]
  },
  {
   "cell_type": "markdown",
   "metadata": {},
   "source": [
    "### 2. `title`"
   ]
  },
  {
   "cell_type": "markdown",
   "metadata": {},
   "source": [
    "#### 2.1 같은 `title`, 다른 `item` 처리\n",
    "같은 영화 중 다른 item 값을 갖는 데이터 중 결측치가 없는 item을 기준으로 통일시킨다."
   ]
  },
  {
   "cell_type": "code",
   "execution_count": null,
   "metadata": {},
   "outputs": [],
   "source": [
    "delete_title = (titles[\"title\"].value_counts() > 1).index[0]\n",
    "print(\"Before droping the indices\")\n",
    "display(item_df[item_df[\"title\"] == delete_title])\n",
    "\n",
    "# 중복된 title을 갖는 item 제거\n",
    "item_df = item_df.drop(index=[13507, 13508])\n",
    "print(\"\\nAfter drop the indices\")\n",
    "display(item_df[item_df[\"title\"] == delete_title])"
   ]
  },
  {
   "cell_type": "code",
   "execution_count": null,
   "metadata": {},
   "outputs": [],
   "source": [
    "# train_ratings에서 item 값을 변경하고자 하는 인덱스 목록 추출\n",
    "idx = train_ratings[(train_ratings[\"item\"] == 64997)].index\n",
    "\n",
    "# 원하는 item 값으로 변경\n",
    "train_ratings.loc[idx, \"item\"] = 34048"
   ]
  },
  {
   "cell_type": "code",
   "execution_count": null,
   "metadata": {},
   "outputs": [],
   "source": [
    "# 결측치 대체가 잘 됐는지 확인\n",
    "train_ratings[(train_ratings[\"item\"] == 64997)]"
   ]
  },
  {
   "cell_type": "markdown",
   "metadata": {},
   "source": [
    "#### 2.2 `title` 재구성\n",
    "\n",
    "현재 `title`은 _**\"영문 제목 (a.k.a. 별칭) (원어 제목) (연도)\"**_ 순으로 구성되어 있다. 정규표현식을 활용하여 다음 순서대로 `title`을 재구성한다.\n",
    "\n",
    "1. 따옴표(”, ‘) 제거\n",
    "2. 영문 제목만 선택\n",
    "3. 관사 위치 재조정: \"~, The\"를 \"The ~\"로 변경\n",
    "4. 특수문자 삭제\n",
    "5. 소문자로 통일"
   ]
  },
  {
   "cell_type": "code",
   "execution_count": null,
   "metadata": {},
   "outputs": [],
   "source": [
    "def preprocess_title(title):\n",
    "    # 1. 따옴표(”, ‘) 제거\n",
    "    title = re.sub(r'^[\\'\"](.*)[\\'\"]$', r'\\1', title)\n",
    "    \n",
    "    # 2. 영문 제목만 추출\n",
    "    title = re.match(r'^[^(]+', title).group().strip() if re.match(r'^[^(]+', title) else title\n",
    "    \n",
    "    # 3. \"~, The\", \"~, A\", \"~, An\" 형태를 \"The ~\", \"A ~\", \"An ~\"으로 변경\n",
    "    title = re.sub(r'^(.*),\\s(The|A|An)$', r'\\2 \\1', title)\n",
    "    \n",
    "    # 4. 특수문자 제거\n",
    "    title = re.sub(r'[^a-zA-Z0-9\\s]', '', title)\n",
    "    \n",
    "    # 5. 소문자로 변환\n",
    "    title = title.lower()\n",
    "    \n",
    "    return title"
   ]
  },
  {
   "cell_type": "code",
   "execution_count": null,
   "metadata": {},
   "outputs": [],
   "source": [
    "# 현재 error 발생\n",
    "item_df[\"title\"] = preprocess_title(item_df[\"title\"])"
   ]
  },
  {
   "cell_type": "markdown",
   "metadata": {},
   "source": [
    "### 3. `director`"
   ]
  },
  {
   "cell_type": "code",
   "execution_count": null,
   "metadata": {},
   "outputs": [],
   "source": [
    "item_director_counts = directors.groupby('item')['director'].nunique().reset_index()\n",
    "item_director_counts.columns = ['item', 'director_count']\n",
    "\n",
    "director_counts = item_director_counts.groupby('director_count').count().reset_index()\n",
    "director_counts.columns = ['director_count', 'count']\n",
    "director_counts[\"count\"].sum()"
   ]
  },
  {
   "cell_type": "markdown",
   "metadata": {},
   "source": [
    "### 4. `writer`"
   ]
  },
  {
   "cell_type": "code",
   "execution_count": null,
   "metadata": {},
   "outputs": [],
   "source": []
  },
  {
   "cell_type": "markdown",
   "metadata": {},
   "source": [
    "### 5. `genre`"
   ]
  },
  {
   "cell_type": "code",
   "execution_count": null,
   "metadata": {},
   "outputs": [],
   "source": []
  },
  {
   "cell_type": "markdown",
   "metadata": {},
   "source": [
    "## Feature Engineering"
   ]
  },
  {
   "cell_type": "code",
   "execution_count": null,
   "metadata": {},
   "outputs": [],
   "source": []
  },
  {
   "cell_type": "code",
   "execution_count": null,
   "metadata": {},
   "outputs": [],
   "source": [
    "# train_ratings와 item_df를 최종 병합\n",
    "train_df = pd.merge(train_ratings, item_df, on=\"item\", how=\"left\")"
   ]
  },
  {
   "cell_type": "markdown",
   "metadata": {},
   "source": [
    "### 파생변수 생성"
   ]
  },
  {
   "cell_type": "code",
   "execution_count": null,
   "metadata": {},
   "outputs": [],
   "source": []
  }
 ],
 "metadata": {
  "kernelspec": {
   "display_name": "base",
   "language": "python",
   "name": "python3"
  },
  "language_info": {
   "codemirror_mode": {
    "name": "ipython",
    "version": 3
   },
   "file_extension": ".py",
   "mimetype": "text/x-python",
   "name": "python",
   "nbconvert_exporter": "python",
   "pygments_lexer": "ipython3",
   "version": "3.10.13"
  }
 },
 "nbformat": 4,
 "nbformat_minor": 2
}
