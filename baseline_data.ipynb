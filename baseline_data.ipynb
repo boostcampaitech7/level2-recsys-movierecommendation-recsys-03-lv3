{
 "cells": [
  {
   "cell_type": "markdown",
   "metadata": {},
   "source": [
    "## Library Import"
   ]
  },
  {
   "cell_type": "code",
   "execution_count": null,
   "metadata": {},
   "outputs": [],
   "source": [
    "import os\n",
    "import re\n",
    "import pandas as pd\n",
    "import numpy as np\n",
    "import matplotlib.pyplot as plt\n",
    "import seaborn as sns\n",
    "from sklearn.preprocessing import MultiLabelBinarizer\n",
    "from tqdm import tqdm"
   ]
  },
  {
   "cell_type": "markdown",
   "metadata": {},
   "source": [
    "## Data Load"
   ]
  },
  {
   "cell_type": "code",
   "execution_count": null,
   "metadata": {},
   "outputs": [],
   "source": [
    "# 데이터 경로 설정\n",
    "data_path = \"~/movie/data/train\"\n",
    "\n",
    "# 전체 학습 데이터 불러오기\n",
    "train_ratings = pd.read_csv(os.path.join(data_path, \"train_ratings.csv\"))\n",
    "\n",
    "# 아이템 side information 불러오기\n",
    "years = pd.read_csv(os.path.join(data_path, \"years.tsv\"), sep=\"\\t\")\n",
    "writers = pd.read_csv(os.path.join(data_path, \"writers.tsv\"), sep=\"\\t\")\n",
    "titles = pd.read_csv(os.path.join(data_path, \"titles.tsv\"), sep=\"\\t\")\n",
    "genres = pd.read_csv(os.path.join(data_path, \"genres.tsv\"), sep=\"\\t\")\n",
    "directors = pd.read_csv(os.path.join(data_path, \"directors.tsv\"), sep=\"\\t\")"
   ]
  },
  {
   "cell_type": "code",
   "execution_count": null,
   "metadata": {},
   "outputs": [],
   "source": [
    "# side information을 하나의 아이템 데이터프레임으로 병합\n",
    "item_df = pd.merge(titles, years, on=\"item\", how=\"left\")\n",
    "item_df = pd.merge(item_df, genres, on=\"item\", how=\"left\")\n",
    "item_df = pd.merge(item_df, directors, on=\"item\", how=\"left\")\n",
    "item_df = pd.merge(item_df, writers, on=\"item\", how=\"left\")"
   ]
  },
  {
   "cell_type": "code",
   "execution_count": null,
   "metadata": {},
   "outputs": [],
   "source": [
    "item_df.head(20)"
   ]
  },
  {
   "cell_type": "markdown",
   "metadata": {},
   "source": [
    "## Data Preprocessing"
   ]
  },
  {
   "cell_type": "markdown",
   "metadata": {},
   "source": [
    "### 1. `year`\n",
    "\n",
    "결측치를 `title`에 포함된 연도 정보를 활용해 대체한다."
   ]
  },
  {
   "cell_type": "code",
   "execution_count": null,
   "metadata": {},
   "outputs": [],
   "source": [
    "# year 결측치 확인\n",
    "item_df[item_df[\"year\"].isna()]"
   ]
  },
  {
   "cell_type": "code",
   "execution_count": null,
   "metadata": {},
   "outputs": [],
   "source": [
    "# title에서 괄호 안 연도 추출해 year 결측치 대체\n",
    "item_df[\"year\"] = item_df[\"year\"].fillna(\n",
    "    item_df[\"title\"].str.extract(r\"\\((\\d{4})\\)\", expand=False)  # 괄호 안 네 자리 숫자를 추출하는 정규표현식\n",
    ").astype(\"int64\")\n",
    "\n",
    "# 결과 확인\n",
    "print(item_df[item_df[\"year\"].isna()])  # 여전히 NaN인 경우 확인"
   ]
  },
  {
   "cell_type": "markdown",
   "metadata": {},
   "source": [
    "### 2. `title`"
   ]
  },
  {
   "cell_type": "markdown",
   "metadata": {},
   "source": [
    "#### 2.1 같은 `title`, 다른 `item` 처리\n",
    "같은 영화 중 다른 item 값을 갖는 데이터 중 결측치가 없는 item을 기준으로 통일시킨다."
   ]
  },
  {
   "cell_type": "code",
   "execution_count": null,
   "metadata": {},
   "outputs": [],
   "source": [
    "delete_title = (titles[\"title\"].value_counts() > 1).index[0]\n",
    "print(\"Before droping the indices\")\n",
    "display(item_df[item_df[\"title\"] == delete_title])\n",
    "\n",
    "# 중복된 title을 갖는 item 제거\n",
    "item_df = item_df.drop(index=[13507, 13508])\n",
    "print(\"\\nAfter drop the indices\")\n",
    "display(item_df[item_df[\"title\"] == delete_title])"
   ]
  },
  {
   "cell_type": "code",
   "execution_count": null,
   "metadata": {},
   "outputs": [],
   "source": [
    "# train_ratings에서 item 값을 변경하고자 하는 인덱스 목록 추출\n",
    "idx = train_ratings[(train_ratings[\"item\"] == 64997)].index\n",
    "\n",
    "# 원하는 item 값으로 변경\n",
    "train_ratings.loc[idx, \"item\"] = 34048"
   ]
  },
  {
   "cell_type": "code",
   "execution_count": null,
   "metadata": {},
   "outputs": [],
   "source": [
    "# 결측치 대체가 잘 됐는지 확인\n",
    "train_ratings[(train_ratings[\"item\"] == 64997)]"
   ]
  },
  {
   "cell_type": "markdown",
   "metadata": {},
   "source": [
    "#### 2.2 `title` 재구성\n",
    "\n",
    "현재 `title`은 _**\"영문 제목 (a.k.a. 별칭) (원어 제목) (연도)\"**_ 순으로 구성되어 있다. 정규표현식을 활용하여 다음 순서대로 `title`을 재구성한다.\n",
    "\n",
    "1. 따옴표(”, ‘) 제거\n",
    "2. 영문 제목만 선택\n",
    "3. 관사 위치 재조정: \"~, The\"를 \"The ~\"로 변경\n",
    "4. 특수문자 삭제\n",
    "5. 소문자로 통일"
   ]
  },
  {
   "cell_type": "code",
   "execution_count": null,
   "metadata": {},
   "outputs": [],
   "source": [
    "def preprocess_title(title):\n",
    "    # 1. 따옴표(”, ‘) 제거\n",
    "    title = re.sub(r'^[\\'\"](.*)[\\'\"]$', r'\\1', title)\n",
    "    \n",
    "    # 2. 영문 제목만 추출\n",
    "    title = re.match(r'^[^(]+', title).group().strip() if re.match(r'^[^(]+', title) else title\n",
    "    \n",
    "    # 3. \"~, The\", \"~, A\", \"~, An\" 형태를 \"The ~\", \"A ~\", \"An ~\"으로 변경\n",
    "    title = re.sub(r'^(.*),\\s(The|A|An)$', r'\\2 \\1', title)\n",
    "    \n",
    "    # 4. 특수문자 제거\n",
    "    title = re.sub(r'[^a-zA-Z0-9\\s]', '', title)\n",
    "    \n",
    "    # 5. 소문자로 변환\n",
    "    title = title.lower()\n",
    "    \n",
    "    return title"
   ]
  },
  {
   "cell_type": "code",
   "execution_count": null,
   "metadata": {},
   "outputs": [],
   "source": [
    "item_df[\"title\"] = item_df[\"title\"].apply(preprocess_title)"
   ]
  },
  {
   "cell_type": "markdown",
   "metadata": {},
   "source": [
    "### 3. `director`"
   ]
  },
  {
   "cell_type": "code",
   "execution_count": null,
   "metadata": {},
   "outputs": [],
   "source": [
    "item_director_counts = directors.groupby('item')['director'].nunique().reset_index()\n",
    "item_director_counts.columns = ['item', 'director_count']\n",
    "\n",
    "director_counts = item_director_counts.groupby('director_count').count().reset_index()\n",
    "director_counts.columns = ['director_count', 'count']\n",
    "director_counts[\"count\"].sum()"
   ]
  },
  {
   "cell_type": "markdown",
   "metadata": {},
   "source": [
    "### 4. `writer`"
   ]
  },
  {
   "cell_type": "markdown",
   "metadata": {},
   "source": [
    "### 5. `genre`"
   ]
  },
  {
   "cell_type": "code",
   "execution_count": null,
   "metadata": {},
   "outputs": [],
   "source": [
    "# 함수 정의: 피벗별로 상위 k개의 레벨만 남기기\n",
    "def filter_top_k_by_count(df, sel_col, pivot_col, top_k, ascending=False):\n",
    "    # 1. 레벨별 전체 등장 빈도 계산\n",
    "    col_count = df[sel_col].value_counts().reset_index()\n",
    "    col_count.columns = [sel_col, \"count\"]\n",
    "    \n",
    "    # 2. 원본 데이터프레임에 레벨 count 추가\n",
    "    df = df.merge(col_count, on=sel_col)\n",
    "    \n",
    "    # 3. 각 피벗별로 상위 N개의 레벨 남기기\n",
    "    filtered_df = df.groupby(pivot_col).apply(\n",
    "        (lambda x: x.nsmallest(top_k, \"count\")) if ascending else (lambda x: x.nlargest(top_k, \"count\"))\n",
    "    ).reset_index(drop=True)\n",
    "    \n",
    "    # 4. count 열 제거 후 결과 반환\n",
    "    filtered_df = filtered_df.drop(columns=[\"count\"])\n",
    "    \n",
    "    return filtered_df"
   ]
  },
  {
   "cell_type": "code",
   "execution_count": null,
   "metadata": {},
   "outputs": [],
   "source": [
    "# 함수 실행\n",
    "genres = filter_top_k_by_count(genres, sel_col=\"genre\", pivot_col=\"item\", top_k=4)\n",
    "genres"
   ]
  },
  {
   "cell_type": "code",
   "execution_count": null,
   "metadata": {},
   "outputs": [],
   "source": [
    "# 함수 정의: 멀티-핫-인코딩 하기\n",
    "def multi_hot_encoding(df: pd.DataFrame,\n",
    "                       label_col: str,\n",
    "                       pivot_col: str\n",
    "                       ) -> pd.DataFrame:\n",
    "    \"\"\"\n",
    "    범주형 데이터에서 여러 개의 선택 가능한 값을 이진 벡터(binary vector)로 변환합니다.\n",
    "\n",
    "    Args:\n",
    "        df (pd.DataFrame): pivot_col과 label_col을 column으로 갖는 데이터프레임\n",
    "        label_col (str): 데이터프레임에서 멀티 핫 인코딩을 적용할 범주형 변수명\n",
    "        pivot_col (str): 데이터프레임에서 그룹화할 기준이 되는 변수명\n",
    "\n",
    "    Returns:\n",
    "        pd.DataFrame: 멀티-핫-인코딩이 완료된 데이터프레임 반환.\n",
    "    \"\"\"\n",
    "\n",
    "    # 1. pivot_col별 label_col을 리스트로 묶기\n",
    "    grouped_df = df.groupby(pivot_col)[label_col].apply(lambda x: list(x)).reset_index()\n",
    "\n",
    "    # 2. MultiLabelBinarizer를 사용하여 멀티 핫 인코딩 수행\n",
    "    mlb = MultiLabelBinarizer()\n",
    "    multi_hot_encoded = mlb.fit_transform(grouped_df[label_col])\n",
    "\n",
    "    # 3. 결과를 데이터프레임으로 변환\n",
    "    multi_hot_df = pd.DataFrame(multi_hot_encoded, columns=mlb.classes_)\n",
    "\n",
    "    # 4. 원본 데이터프레임과 결합\n",
    "    result_df = pd.concat([grouped_df[pivot_col], multi_hot_df], axis=1)\n",
    "\n",
    "    return result_df"
   ]
  },
  {
   "cell_type": "code",
   "execution_count": null,
   "metadata": {},
   "outputs": [],
   "source": [
    "genres_mhe = multi_hot_encoding(genres, label_col=\"genre\", pivot_col=\"item\")\n",
    "genres_mhe"
   ]
  },
  {
   "cell_type": "code",
   "execution_count": null,
   "metadata": {},
   "outputs": [],
   "source": [
    "# 그룹화 및 병합\n",
    "grouped_df = item_df.groupby(['item', 'title', 'year']).agg({\n",
    "    'genre': lambda x: list(x.unique()),\n",
    "    'director': lambda x: list(x.unique()),\n",
    "    'writer': lambda x: list(x.unique())\n",
    "}).reset_index()"
   ]
  },
  {
   "cell_type": "markdown",
   "metadata": {},
   "source": [
    "## Feature Engineering"
   ]
  },
  {
   "cell_type": "code",
   "execution_count": null,
   "metadata": {},
   "outputs": [],
   "source": [
    "# train_ratings와 item_df를 최종 병합\n",
    "train_df = pd.merge(train_ratings, item_df, on=\"item\", how=\"left\")"
   ]
  },
  {
   "cell_type": "markdown",
   "metadata": {},
   "source": [
    "### 파생변수 생성"
   ]
  },
  {
   "cell_type": "code",
   "execution_count": null,
   "metadata": {},
   "outputs": [],
   "source": [
    "# 함수 정의: num_negative만큼 negative_sampling하기\n",
    "def negative_sampling(df:pd.DataFrame,\n",
    "                      user_col: str,\n",
    "                      item_col: str,\n",
    "                      num_negative: float\n",
    "                      ) -> pd.DataFrame:\n",
    "    \"\"\"\n",
    "    _summary_\n",
    "\n",
    "    Args:\n",
    "        df (pd.DataFrame): user_col과 item_col을 column으로 갖는 데이터프레임\n",
    "        user_col (str): _description_\n",
    "        item_col (str): _description_\n",
    "        num_negative (float): _description_\n",
    "\n",
    "    Returns:\n",
    "        pd.DataFrame: negative_sampling\n",
    "    \"\"\"\n",
    "\n",
    "    df['review'] = 1\n",
    "    user_group_dfs = list(df.groupby(user_col)[item_col])\n",
    "    first_row = True\n",
    "    user_neg_dfs = pd.DataFrame()\n",
    "    items = set(df.loc[:, item_col])\n",
    "\n",
    "    for u, u_items in tqdm(user_group_dfs):\n",
    "        u_items = set(u_items)\n",
    "        i_user_neg_item = np.random.choice(list(items - u_items), num_negative, replace=False)\n",
    "        i_user_neg_df = pd.DataFrame({user_col: [u]*num_negative, item_col: i_user_neg_item, 'review': [0]*num_negative})\n",
    "        \n",
    "        if first_row == True:\n",
    "            user_neg_dfs = i_user_neg_df\n",
    "            first_row = False\n",
    "        \n",
    "        else:\n",
    "            user_neg_dfs = pd.concat([user_neg_dfs, i_user_neg_df], axis = 0, sort=False)\n",
    "\n",
    "    raw_rating_df = pd.concat([df, user_neg_dfs], axis = 0, sort=False) \n",
    "    \n",
    "    return raw_rating_df"
   ]
  },
  {
   "cell_type": "code",
   "execution_count": null,
   "metadata": {},
   "outputs": [],
   "source": [
    "def pivot_count(df: pd.DataFrame,\n",
    "                pivot_col: str,\n",
    "                col_name: str,\n",
    "                ) -> pd.DataFrame:\n",
    "    \"\"\"\n",
    "    _summary_\n",
    "\n",
    "    Args:\n",
    "        df (pd.DataFrame): _description_\n",
    "        pivot_col (str): _description_\n",
    "        col_name (str): _description_\n",
    "\n",
    "    Returns:\n",
    "        pd.DataFrame: _description_\n",
    "    \"\"\"\n",
    "\n",
    "    if 'review' in df.columns:\n",
    "        positive_df =  df[df[\"review\"]==1]\n",
    "        pivot_count_df = positive_df[pivot_col].value_counts()\n",
    "    \n",
    "    else:\n",
    "        pivot_count_df = df[pivot_col].value_counts()\n",
    "\n",
    "    df[col_name] =  df[pivot_col].map(pivot_count_df)\n",
    "    \n",
    "    return df"
   ]
  }
 ],
 "metadata": {
  "kernelspec": {
   "display_name": "base",
   "language": "python",
   "name": "python3"
  },
  "language_info": {
   "codemirror_mode": {
    "name": "ipython",
    "version": 3
   },
   "file_extension": ".py",
   "mimetype": "text/x-python",
   "name": "python",
   "nbconvert_exporter": "python",
   "pygments_lexer": "ipython3",
   "version": "3.10.13"
  }
 },
 "nbformat": 4,
 "nbformat_minor": 2
}
