{
 "cells": [
  {
   "cell_type": "code",
   "execution_count": 1,
   "metadata": {},
   "outputs": [],
   "source": [
    "import os\n",
    "import pandas as pd\n",
    "import numpy as np"
   ]
  },
  {
   "cell_type": "code",
   "execution_count": 2,
   "metadata": {},
   "outputs": [],
   "source": [
    "output_path = \"/data/ephemeral/home/movie/zerovirus/movierec/output/\"\n",
    "catboost = pd.read_csv(os.path.join(output_path, \"CatBoost_output.csv\"))\n",
    "ease = pd.read_csv(os.path.join(output_path, \"EASE_output.csv\"))\n",
    "easer = pd.read_csv(os.path.join(output_path, \"EASER_output.csv\"))\n",
    "multivae = pd.read_csv(os.path.join(output_path, \"multiVAE_output.csv\"))\n",
    "s3rec = pd.read_csv(os.path.join(output_path, \"S3Rec_output.csv\"))"
   ]
  },
  {
   "cell_type": "code",
   "execution_count": 3,
   "metadata": {},
   "outputs": [
    {
     "name": "stdout",
     "output_type": "stream",
     "text": [
      "catboost shape: (313600, 2)\n",
      "ease shape: (313600, 2)\n",
      "easer shape: (313600, 2)\n",
      "multivae shape: (313600, 2)\n",
      "s3rec shape: (313600, 2)\n"
     ]
    }
   ],
   "source": [
    "print(f\"catboost shape: {catboost.shape}\")\n",
    "print(f\"ease shape: {ease.shape}\") \n",
    "print(f\"easer shape: {easer.shape}\") \n",
    "print(f\"multivae shape: {multivae.shape}\") \n",
    "print(f\"s3rec shape: {s3rec.shape}\") "
   ]
  },
  {
   "cell_type": "code",
   "execution_count": 4,
   "metadata": {},
   "outputs": [
    {
     "name": "stderr",
     "output_type": "stream",
     "text": [
      "Sampling...: 100%|██████████| 31360/31360 [05:15<00:00, 99.43it/s] \n"
     ]
    }
   ],
   "source": [
    "from tqdm import tqdm\n",
    "import numpy as np\n",
    "\n",
    "np.random.seed(42)\n",
    "\n",
    "p = [8, 2]\n",
    "outputs = pd.concat([\n",
    "    easer,\n",
    "    multivae[\"item\"],\n",
    "], axis=1)\n",
    "\n",
    "# # 열 방향으로 샘플링하여 새 열 생성\n",
    "# outputs['Sampled'] =outputs.apply(lambda row: np.random.choice(row[1:], p=p), axis=1)\n",
    "def ensemble_models(outputs, p):\n",
    "    output_group = outputs.groupby(\"user\")\n",
    "    sampled = pd.DataFrame(columns=[\"user\", \"item\"])\n",
    "    for user_id, group in tqdm(output_group, desc=\"Sampling...\"):\n",
    "        group = group.iloc[:, 1:]\n",
    "        for i in range(len(p)):\n",
    "            for _ in range(p[i]-1):\n",
    "                group = pd.concat([group, group.iloc[:, i]], axis=1)\n",
    "        items = group.values.flatten()\n",
    "\n",
    "        lst = []\n",
    "        for _ in range(10):\n",
    "            r = np.random.choice(items)\n",
    "            lst.append(r)\n",
    "            items = items[items!=r]\n",
    "        \n",
    "        result = pd.DataFrame({\"user\": user_id, \"item\": lst})\n",
    "        sampled = pd.concat([sampled, result], axis=0)\n",
    "\n",
    "    return sampled\n",
    "\n",
    "sampled_output = ensemble_models(outputs, p)"
   ]
  },
  {
   "cell_type": "code",
   "execution_count": 5,
   "metadata": {},
   "outputs": [
    {
     "data": {
      "text/html": [
       "<div>\n",
       "<style scoped>\n",
       "    .dataframe tbody tr th:only-of-type {\n",
       "        vertical-align: middle;\n",
       "    }\n",
       "\n",
       "    .dataframe tbody tr th {\n",
       "        vertical-align: top;\n",
       "    }\n",
       "\n",
       "    .dataframe thead th {\n",
       "        text-align: right;\n",
       "    }\n",
       "</style>\n",
       "<table border=\"1\" class=\"dataframe\">\n",
       "  <thead>\n",
       "    <tr style=\"text-align: right;\">\n",
       "      <th></th>\n",
       "      <th>user</th>\n",
       "      <th>item</th>\n",
       "    </tr>\n",
       "  </thead>\n",
       "  <tbody>\n",
       "    <tr>\n",
       "      <th>0</th>\n",
       "      <td>11</td>\n",
       "      <td>59784</td>\n",
       "    </tr>\n",
       "    <tr>\n",
       "      <th>1</th>\n",
       "      <td>11</td>\n",
       "      <td>33004</td>\n",
       "    </tr>\n",
       "    <tr>\n",
       "      <th>2</th>\n",
       "      <td>11</td>\n",
       "      <td>4886</td>\n",
       "    </tr>\n",
       "    <tr>\n",
       "      <th>3</th>\n",
       "      <td>11</td>\n",
       "      <td>3156</td>\n",
       "    </tr>\n",
       "    <tr>\n",
       "      <th>4</th>\n",
       "      <td>11</td>\n",
       "      <td>2</td>\n",
       "    </tr>\n",
       "    <tr>\n",
       "      <th>...</th>\n",
       "      <td>...</td>\n",
       "      <td>...</td>\n",
       "    </tr>\n",
       "    <tr>\n",
       "      <th>5</th>\n",
       "      <td>138493</td>\n",
       "      <td>32587</td>\n",
       "    </tr>\n",
       "    <tr>\n",
       "      <th>6</th>\n",
       "      <td>138493</td>\n",
       "      <td>53125</td>\n",
       "    </tr>\n",
       "    <tr>\n",
       "      <th>7</th>\n",
       "      <td>138493</td>\n",
       "      <td>58559</td>\n",
       "    </tr>\n",
       "    <tr>\n",
       "      <th>8</th>\n",
       "      <td>138493</td>\n",
       "      <td>2762</td>\n",
       "    </tr>\n",
       "    <tr>\n",
       "      <th>9</th>\n",
       "      <td>138493</td>\n",
       "      <td>3578</td>\n",
       "    </tr>\n",
       "  </tbody>\n",
       "</table>\n",
       "<p>313600 rows × 2 columns</p>\n",
       "</div>"
      ],
      "text/plain": [
       "      user   item\n",
       "0       11  59784\n",
       "1       11  33004\n",
       "2       11   4886\n",
       "3       11   3156\n",
       "4       11      2\n",
       "..     ...    ...\n",
       "5   138493  32587\n",
       "6   138493  53125\n",
       "7   138493  58559\n",
       "8   138493   2762\n",
       "9   138493   3578\n",
       "\n",
       "[313600 rows x 2 columns]"
      ]
     },
     "execution_count": 5,
     "metadata": {},
     "output_type": "execute_result"
    }
   ],
   "source": [
    "sampled_output"
   ]
  },
  {
   "cell_type": "code",
   "execution_count": 6,
   "metadata": {},
   "outputs": [
    {
     "data": {
      "text/plain": [
       "item\n",
       "10    31360\n",
       "Name: count, dtype: int64"
      ]
     },
     "execution_count": 6,
     "metadata": {},
     "output_type": "execute_result"
    }
   ],
   "source": [
    "user_group = sampled_output.groupby(\"user\")[\"item\"].nunique()\n",
    "user_group.value_counts()"
   ]
  },
  {
   "cell_type": "code",
   "execution_count": 7,
   "metadata": {},
   "outputs": [],
   "source": [
    "sampled_output.to_csv(\"ensemble_output.csv\", index=False)"
   ]
  }
 ],
 "metadata": {
  "kernelspec": {
   "display_name": "base",
   "language": "python",
   "name": "python3"
  },
  "language_info": {
   "codemirror_mode": {
    "name": "ipython",
    "version": 3
   },
   "file_extension": ".py",
   "mimetype": "text/x-python",
   "name": "python",
   "nbconvert_exporter": "python",
   "pygments_lexer": "ipython3",
   "version": "3.10.13"
  }
 },
 "nbformat": 4,
 "nbformat_minor": 2
}
