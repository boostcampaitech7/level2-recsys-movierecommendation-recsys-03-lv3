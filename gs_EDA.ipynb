{
 "cells": [
  {
   "cell_type": "markdown",
   "metadata": {},
   "source": [
    "## 대회 데이터셋 구성"
   ]
  },
  {
   "cell_type": "markdown",
   "metadata": {},
   "source": [
    "### data\n",
    "    ├── directors.tsv\n",
    "    ├── genres.tsv\n",
    "    ├── titles.tsv\n",
    "    ├── train_ratings.csv\n",
    "    ├── writers.tsv\n",
    "    └── years.tsv\n",
    "    \n",
    "1. *train_ratings.csv* : 전체 훈련 데이터.\n",
    "2. *directors.tsv*, *genres.tsv*, *writers.tsv*, *years.tsv*, *titles.tsv* : 영화의 side-information 데이터.\n",
    "\n",
    "### train/test 데이터셋\n",
    "\n",
    "train 데이터셋은 *user, item, time* 세개의 column으로 구성된 반면, test 데이터셋은 *user* column과 비어있는 *item* column으로 구성되어 있음을 참고해 주세요. 대회 진행시, 각각의 사용자에게 10개의 영화를 추천하게 됩니다.\n",
    "\n",
    "각 column은 다음을 나타냅니다.\n",
    "- *user*: 사용자 id.\n",
    "- *item*: 영화 id.\n",
    "- *time*: 사용자가 해당 영화와 interact한 시간. (UNIX시간의 초 단위)\n",
    "\n",
    "영화 id는 *directors.tsv, genres.tsv, writers.tsv, years.tsv, titles.tsv*에서도 일관적으로 사용됩니다. 즉, 동일한 영화 id는 side information 데이터셋에서 동일한 영화를 나타냅니다."
   ]
  },
  {
   "cell_type": "markdown",
   "metadata": {},
   "source": [
    "## 라이브러리 불러오기"
   ]
  },
  {
   "cell_type": "code",
   "execution_count": null,
   "metadata": {},
   "outputs": [],
   "source": [
    "import os\n",
    "import time\n",
    "import pandas as pd\n",
    "import numpy as np\n",
    "import matplotlib.pyplot as plt\n",
    "import seaborn as sns"
   ]
  },
  {
   "cell_type": "markdown",
   "metadata": {},
   "source": [
    "## 데이터 불러오기"
   ]
  },
  {
   "cell_type": "markdown",
   "metadata": {},
   "source": [
    "### 1. train"
   ]
  },
  {
   "cell_type": "code",
   "execution_count": null,
   "metadata": {},
   "outputs": [],
   "source": [
    "data_path = \"~/movie/data/train\"\n",
    "train_df = pd.read_csv(os.path.join(data_path, \"train_ratings.csv\")) # 전체 학습 데이터"
   ]
  },
  {
   "cell_type": "code",
   "execution_count": null,
   "metadata": {},
   "outputs": [],
   "source": [
    "# train 데이터 데이터 타입, 결측치 확인\n",
    "train_df.info()\n",
    "train_df"
   ]
  },
  {
   "cell_type": "code",
   "execution_count": null,
   "metadata": {},
   "outputs": [],
   "source": [
    "# train 데이터 사용자, 아이템 unique 수 확인\n",
    "num_train_users = train_df[\"user\"].nunique()\n",
    "num_train_items = train_df[\"item\"].nunique()\n",
    "\n",
    "print (\"Number of unique train users: \", num_train_users)\n",
    "print (\"Number of unique train items: \", num_train_items)\n",
    "print(\"Data sparsity ratio: \", 1 - len(train_df) / (num_train_users * num_train_items))"
   ]
  },
  {
   "cell_type": "markdown",
   "metadata": {},
   "source": [
    "데이터의 sparsity ratio는 약 97.6%로 일반적인 추천 시스템 데이터셋에 비해 굉장히 dense한 (행렬 상 이력의 많은 부분이 채워져 있는) 데이터임을 알 수 있습니다."
   ]
  },
  {
   "cell_type": "code",
   "execution_count": null,
   "metadata": {},
   "outputs": [],
   "source": [
    "# 유저별 시청 이력 수 기술통계량 확인\n",
    "tmp = pd.DataFrame(train_df[\"user\"].value_counts())\n",
    "tmp.describe()"
   ]
  },
  {
   "cell_type": "markdown",
   "metadata": {},
   "source": [
    "최소 16편에서 최대 2912편까지 유저별 시청 이력이 존재하고, 유저 평균 시청 횟수는 164편의 영화를 시청했음을 확인할 수 있다."
   ]
  },
  {
   "cell_type": "code",
   "execution_count": null,
   "metadata": {},
   "outputs": [],
   "source": [
    "# 유저별 시청 횟수 시각화: 상자 그림, 히스토그램\n",
    "fig, axes = plt.subplots(1, 2, figsize=(12, 5))\n",
    "sns.boxplot(tmp, ax=axes[0])\n",
    "sns.histplot(tmp, ax=axes[1])\n",
    "plt.show()"
   ]
  },
  {
   "cell_type": "code",
   "execution_count": null,
   "metadata": {},
   "outputs": [],
   "source": [
    "# 영화별 시청 횟수 기술통계량 확인\n",
    "tmp = pd.DataFrame(train_df[\"item\"].value_counts())\n",
    "tmp.describe()"
   ]
  },
  {
   "cell_type": "markdown",
   "metadata": {},
   "source": [
    "최소 27번에서 최대 19,699번까지 영화 시청 수가 존재하고, 영화 평균 시청 횟수는 757번 시청됐음을 확인할 수 있다."
   ]
  },
  {
   "cell_type": "code",
   "execution_count": null,
   "metadata": {},
   "outputs": [],
   "source": [
    "# 유저별 시청 횟수 시각화: 상자 그림, 히스토그램\n",
    "fig, axes = plt.subplots(1, 2, figsize=(12, 5))\n",
    "sns.boxplot(tmp, ax=axes[0])\n",
    "sns.histplot(tmp, ax=axes[1])\n",
    "plt.show()"
   ]
  },
  {
   "cell_type": "markdown",
   "metadata": {},
   "source": [
    "### 2. side information"
   ]
  },
  {
   "cell_type": "code",
   "execution_count": null,
   "metadata": {},
   "outputs": [],
   "source": [
    "# 아이템 side information 불러오기\n",
    "year_data = pd.read_csv(os.path.join(data_path, 'years.tsv'), sep='\\t')\n",
    "writer_data = pd.read_csv(os.path.join(data_path, 'writers.tsv'), sep='\\t')\n",
    "title_data = pd.read_csv(os.path.join(data_path, 'titles.tsv'), sep='\\t')\n",
    "genre_data = pd.read_csv(os.path.join(data_path, 'genres.tsv'), sep='\\t')\n",
    "director_data = pd.read_csv(os.path.join(data_path, 'directors.tsv'), sep='\\t')"
   ]
  },
  {
   "cell_type": "code",
   "execution_count": null,
   "metadata": {},
   "outputs": [],
   "source": [
    "# side information을 하나의 아이템 데이터프레임으로 병합\n",
    "item_df = pd.merge(title_data, year_data, on=\"item\", how=\"left\")\n",
    "item_df = pd.merge(item_df, director_data, on=\"item\", how=\"left\")\n",
    "item_df = pd.merge(item_df, writer_data, on=\"item\", how=\"left\")\n",
    "item_df = pd.merge(item_df, genre_data, on=\"item\", how=\"left\")\n",
    "\n",
    "item_df"
   ]
  },
  {
   "cell_type": "code",
   "execution_count": null,
   "metadata": {},
   "outputs": [],
   "source": [
    "# item_df 데이터 타입, 결측치, 기술통계량 확인\n",
    "item_df.info()\n",
    "item_df.describe(include=\"all\")"
   ]
  },
  {
   "cell_type": "markdown",
   "metadata": {},
   "source": [
    "#### 결측치 확인"
   ]
  },
  {
   "cell_type": "code",
   "execution_count": null,
   "metadata": {},
   "outputs": [],
   "source": [
    "# item_df 결측치 수 확인\n",
    "# 아이템별로 감독, 작가, 장르가 여러 개인 경우가 있으므로 unique로 정확한 결측치 수를 파악해봐야 한다.\n",
    "item_df.isna().sum()"
   ]
  },
  {
   "cell_type": "code",
   "execution_count": null,
   "metadata": {},
   "outputs": [],
   "source": [
    "# 결측치가 존재하는 컬럼(year, director, writer)별 unique 결측치 수 확인\n",
    "print(\"Number of all unique year missing values :\", item_df[item_df[\"year\"].isna()][\"title\"].nunique())\n",
    "print(\"Number of all unique director missing values :\", item_df[item_df[\"director\"].isna()][\"title\"].nunique())\n",
    "print(\"Number of all unique writer missing values :\", item_df[item_df[\"writer\"].isna()][\"title\"].nunique())"
   ]
  },
  {
   "cell_type": "code",
   "execution_count": null,
   "metadata": {},
   "outputs": [],
   "source": [
    "# 결측치가 존재하는 컬럼(year, director, writer)별 결측치 확인을 위한 데이터프레임 출력\n",
    "print(\"Checking a dataframe for missing values in year data\")\n",
    "display(item_df[item_df[\"year\"].isna()])\n",
    "print(\"\\nChecking a dataframe for missing values in director data\")\n",
    "display(item_df[item_df[\"director\"].isna()])\n",
    "print(\"\\nChecking a dataframe for missing values in writer data\")\n",
    "display(item_df[item_df[\"writer\"].isna()])\n"
   ]
  },
  {
   "cell_type": "markdown",
   "metadata": {},
   "source": [
    "#### unique 수 확인"
   ]
  },
  {
   "cell_type": "code",
   "execution_count": null,
   "metadata": {},
   "outputs": [],
   "source": [
    "print(\"Number of unique items:\", item_df[\"item\"].nunique())\n",
    "print(\"Number of unique titles:\", item_df[\"title\"].nunique())\n",
    "print(\"Number of unique years:\", item_df[\"year\"].nunique())\n",
    "print(\"Number of unique directors:\", item_df[\"director\"].nunique())\n",
    "print(\"Number of unique writers:\", item_df[\"writer\"].nunique())\n",
    "print(\"Number of unique genres:\", item_df[\"genre\"].nunique())"
   ]
  },
  {
   "cell_type": "markdown",
   "metadata": {},
   "source": [
    "특이사항으로 item id 수와 title 수는 같아야 하는데 1개 차이가 나는 것을 확인할 수 있다. \n",
    "\n",
    "어디에서 생긴 문제인지 파악해보자"
   ]
  },
  {
   "cell_type": "code",
   "execution_count": null,
   "metadata": {},
   "outputs": [],
   "source": [
    "# unique item과 unique title 사이의 하나 차이나는 데이터 확인\n",
    "title_data[\"title\"].value_counts()"
   ]
  },
  {
   "cell_type": "code",
   "execution_count": null,
   "metadata": {},
   "outputs": [],
   "source": [
    "title_data[title_data[\"title\"] == \"War of the Worlds (2005)\"]"
   ]
  },
  {
   "cell_type": "code",
   "execution_count": null,
   "metadata": {},
   "outputs": [],
   "source": [
    "pd.concat((item_df[item_df[\"item\"] == 34048], item_df[item_df[\"item\"] == 64997]))"
   ]
  },
  {
   "cell_type": "markdown",
   "metadata": {},
   "source": [
    "스티븐 스필버그 감독의 영화 우주전쟁(2005)에서 director 컬럼에 결측치가 있는 경우 다른 item id로 분류하여 item과 title의 unique 수에서 1개가 차이가 발생함을 확인할 수 있다."
   ]
  },
  {
   "cell_type": "markdown",
   "metadata": {},
   "source": [
    "#### 데이터 시각화"
   ]
  },
  {
   "cell_type": "code",
   "execution_count": null,
   "metadata": {},
   "outputs": [],
   "source": [
    "# 연도별 영화 수 확인을 위해 item, year 컬럼 중복 제거\n",
    "tmp = item_df.drop_duplicates([\"item\", \"year\"])\n",
    "tmp"
   ]
  },
  {
   "cell_type": "code",
   "execution_count": null,
   "metadata": {},
   "outputs": [],
   "source": [
    "# 연도별 히스토그램 시각화\n",
    "sns.histplot(data=tmp, x=\"year\", kde=True)\n",
    "plt.show()"
   ]
  },
  {
   "cell_type": "code",
   "execution_count": null,
   "metadata": {},
   "outputs": [],
   "source": [
    "# 장르별 영화 수 확인을 위해 item, genre 컬럼 중복 제거\n",
    "tmp = item_df.drop_duplicates([\"item\", \"genre\"])\n",
    "tmp"
   ]
  },
  {
   "cell_type": "code",
   "execution_count": null,
   "metadata": {},
   "outputs": [],
   "source": [
    "# 장르별 영화 수 카운트\n",
    "tmp[\"genre\"].value_counts()"
   ]
  },
  {
   "cell_type": "code",
   "execution_count": null,
   "metadata": {},
   "outputs": [],
   "source": [
    "# 장르별 히스토그램 시각화\n",
    "sns.barplot(tmp[\"genre\"].value_counts(), orient=\"h\")\n",
    "plt.show()"
   ]
  },
  {
   "cell_type": "code",
   "execution_count": null,
   "metadata": {},
   "outputs": [],
   "source": [
    "tmp = item_df.drop_duplicates([\"item\", \"director\", \"genre\"])\n",
    "tmp"
   ]
  },
  {
   "cell_type": "code",
   "execution_count": null,
   "metadata": {},
   "outputs": [],
   "source": [
    "fig, ax = plt.subplots(figsize=(20, 7))\n",
    "sns.boxplot(data=tmp, x=\"genre\", y=\"year\", palette=\"viridis\")\n",
    "plt.show()"
   ]
  },
  {
   "cell_type": "markdown",
   "metadata": {},
   "source": [
    "### 3. train, item 병합"
   ]
  },
  {
   "cell_type": "code",
   "execution_count": null,
   "metadata": {},
   "outputs": [],
   "source": [
    "merged_df = pd.merge(train_df, item_df, on=\"item\", how=\"left\")\n",
    "merged_df"
   ]
  },
  {
   "cell_type": "code",
   "execution_count": null,
   "metadata": {},
   "outputs": [],
   "source": [
    "# 유닉스 타임으로 이루어진 time을 pandas의 datetime 객체로 변환\n",
    "# merged_df[\"time\"] = merged_df[\"time\"].apply(lambda x: time.strftime(\"%Y-%m\", time.localtime(x)))  # 벡터화로 변환\n",
    "merged_df[\"time\"] = pd.to_datetime(merged_df[\"time\"], unit=\"s\").astype(str)\n",
    "merged_df"
   ]
  },
  {
   "cell_type": "code",
   "execution_count": null,
   "metadata": {},
   "outputs": [],
   "source": [
    "merged_df.drop_duplicates([\"user\", \"item\"])"
   ]
  },
  {
   "cell_type": "code",
   "execution_count": null,
   "metadata": {},
   "outputs": [],
   "source": [
    "merged_df.drop_duplicates([\"user\", \"item\", \"time\"])"
   ]
  },
  {
   "cell_type": "markdown",
   "metadata": {},
   "source": [
    "shape이 변하지 않는 것으로 보아 같은 영화를 두 번 이상 시청한 이력이 나타나지 않는 것으로 확인된다."
   ]
  },
  {
   "cell_type": "code",
   "execution_count": null,
   "metadata": {},
   "outputs": [],
   "source": [
    "tmp = merged_df[merged_df[\"user\"] == 11].drop_duplicates([\"user\", \"item\", \"time\"])\n",
    "tmp[tmp[\"time\"] == \"2009-01-01 05:26:00\"]\n",
    "\n",
    "# sns.histplot()\n",
    "# plt.show()"
   ]
  },
  {
   "cell_type": "markdown",
   "metadata": {},
   "source": [
    "대신 같은 시간대에 한 유저가 2편 이상 시청 이력이 존재하기도 한다."
   ]
  }
 ],
 "metadata": {
  "kernelspec": {
   "display_name": "base",
   "language": "python",
   "name": "python3"
  },
  "language_info": {
   "codemirror_mode": {
    "name": "ipython",
    "version": 3
   },
   "file_extension": ".py",
   "mimetype": "text/x-python",
   "name": "python",
   "nbconvert_exporter": "python",
   "pygments_lexer": "ipython3",
   "version": "3.10.13"
  }
 },
 "nbformat": 4,
 "nbformat_minor": 2
}
